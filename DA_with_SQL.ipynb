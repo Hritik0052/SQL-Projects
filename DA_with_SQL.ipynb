{
 "cells": [
  {
   "cell_type": "markdown",
   "id": "23199599-5552-4a63-9386-158a6371ca3a",
   "metadata": {},
   "source": [
    "# Data Analysis With SQL"
   ]
  },
  {
   "cell_type": "code",
   "execution_count": 60,
   "id": "2defbcff-9402-499e-bd62-66ecd10ce8cb",
   "metadata": {},
   "outputs": [],
   "source": [
    "import numpy as np\n",
    "import pandas as pd \n",
    "import mysql.connector\n",
    "import matplotlib.pyplot as plt\n",
    "import seaborn as sns"
   ]
  },
  {
   "cell_type": "code",
   "execution_count": 61,
   "id": "c13c5204-24be-410a-a190-340305be7868",
   "metadata": {},
   "outputs": [
    {
     "name": "stdout",
     "output_type": "stream",
     "text": [
      "Connected Successfully.\n"
     ]
    }
   ],
   "source": [
    "conn = mysql.connector.connect(\n",
    "    host = \"localhost\",\n",
    "    user = \"root\",\n",
    "    password = \"Hritik\",\n",
    "    database = \"exam\"\n",
    ")\n",
    "cursor = conn.cursor()\n",
    "if conn.is_connected():\n",
    "    print(\"Connected Successfully.\")\n",
    "else:\n",
    "    print(\"Connection Error.\")"
   ]
  },
  {
   "cell_type": "markdown",
   "id": "c6e6c0f0-39b9-413a-8433-fc698fba58f6",
   "metadata": {},
   "source": [
    "### 1. What is the average score for each subject?"
   ]
  },
  {
   "cell_type": "code",
   "execution_count": 5,
   "id": "ce1bf6dd-828e-480e-9b9b-c3a06220cb33",
   "metadata": {},
   "outputs": [
    {
     "name": "stdout",
     "output_type": "stream",
     "text": [
      "Average score of Math is  66.5708\n",
      "Average score of Reading is  69.3859\n",
      "Average score of Writing is  68.4363\n"
     ]
    }
   ],
   "source": [
    "cursor.execute(\"\"\"\n",
    "   SELECT \n",
    "    AVG(MathScore) AS Average_MathScore, \n",
    "    AVG(ReadingScore) AS Average_ReadingScore, \n",
    "    AVG(WritingScore) AS Average_WritingScore\n",
    "   FROM ExamScore\n",
    "\"\"\")\n",
    "result = cursor.fetchall()\n",
    "print(\"Average score of Math is \",result[0][0])\n",
    "print(\"Average score of Reading is \",result[0][1])\n",
    "print(\"Average score of Writing is \",result[0][2])"
   ]
  },
  {
   "cell_type": "markdown",
   "id": "6ce8bade-fd8d-4445-be39-87a22427e3ce",
   "metadata": {},
   "source": [
    "### 2. How many students scored above 80 in Math?"
   ]
  },
  {
   "cell_type": "code",
   "execution_count": 6,
   "id": "9beee01a-f4a0-411b-990d-07cf2ed4faa9",
   "metadata": {},
   "outputs": [
    {
     "name": "stdout",
     "output_type": "stream",
     "text": [
      "Students who scored above 80 in maths 5591\n"
     ]
    }
   ],
   "source": [
    "cursor.execute(\"\"\"\n",
    "    SELECT COUNT(*) AS Students_abv80\n",
    "    FROM ExamScore\n",
    "    WHERE MathScore > 80\n",
    "\"\"\")\n",
    "result = cursor.fetchall()\n",
    "print(\"Students who scored above 80 in maths\",result[0][0])"
   ]
  },
  {
   "cell_type": "markdown",
   "id": "96350f80-2d8c-4527-b1f9-1847a98112c7",
   "metadata": {},
   "source": [
    "### 3. How many students scored below 50 in any subject?"
   ]
  },
  {
   "cell_type": "code",
   "execution_count": 7,
   "id": "9328186d-0d7a-42ea-a620-edd1318df242",
   "metadata": {},
   "outputs": [
    {
     "name": "stdout",
     "output_type": "stream",
     "text": [
      "5388\n"
     ]
    }
   ],
   "source": [
    "cursor.execute(\"\"\"\n",
    "  SELECT COUNT(*) FROM ExamScore\n",
    "  WHERE MathScore < 50 OR\n",
    "        ReadingScore < 50 OR\n",
    "        WritingScore < 50\n",
    "\"\"\")\n",
    "result = cursor.fetchall()\n",
    "print(result[0][0])"
   ]
  },
  {
   "cell_type": "markdown",
   "id": "04928e93-011d-4f47-ad23-cc40ad681f73",
   "metadata": {},
   "source": [
    "### 4. What is the range of scores in each subject?"
   ]
  },
  {
   "cell_type": "code",
   "execution_count": 8,
   "id": "9c6953f4-b8c3-48b1-97d8-9b64e299d971",
   "metadata": {},
   "outputs": [
    {
     "name": "stdout",
     "output_type": "stream",
     "text": [
      "[(100, 90, 96)]\n"
     ]
    }
   ],
   "source": [
    "cursor.execute(\"\"\"\n",
    "  SELECT \n",
    "     MAX(MathScore) - MIN(MathScore) AS Range_of_MathScore,\n",
    "     MAX(ReadingScore) - MIN(ReadingScore) AS Range_of_ReadingScore,\n",
    "     MAX(WritingScore) - MIN(WritingScore) AS Range_of_WritingScore\n",
    "  FROM ExamScore\n",
    "\"\"\")\n",
    "result = cursor.fetchall()\n",
    "print(result)"
   ]
  },
  {
   "cell_type": "markdown",
   "id": "72b19e26-4120-44f4-abc7-929ac4c5dc8a",
   "metadata": {},
   "source": [
    "### 5. Calculate the total score for each student."
   ]
  },
  {
   "cell_type": "code",
   "execution_count": 9,
   "id": "cda068d1-dd99-48e8-b64c-aa6370db62a3",
   "metadata": {},
   "outputs": [
    {
     "name": "stdout",
     "output_type": "stream",
     "text": [
      "[(216,), (247,), (271,), (143,), (229,), (236,), (267,), (123,), (197,), (164,)]\n"
     ]
    }
   ],
   "source": [
    "cursor.execute(\"\"\"\n",
    "  SELECT MathScore + ReadingScore + WritingScore AS TotalScore\n",
    "  FROM ExamScore\n",
    "\"\"\")\n",
    "result = cursor.fetchall()\n",
    "print(result[0:10])"
   ]
  },
  {
   "cell_type": "markdown",
   "id": "e57d3691-24de-410d-a3ba-3ad031c9ed39",
   "metadata": {},
   "source": [
    "### 6. Find the student with the lowest total score."
   ]
  },
  {
   "cell_type": "code",
   "execution_count": 10,
   "id": "e2416ee3-b65e-4f99-8456-504cc957032c",
   "metadata": {},
   "outputs": [
    {
     "name": "stdout",
     "output_type": "stream",
     "text": [
      "[(59, 'female', 'group C', 'some high school', 'free/reduced', 'none', 'single', 'regularly', 'yes', 3, 'school_bus', '> 10', 0, 17, 10, 27, 9, 'D')]\n"
     ]
    }
   ],
   "source": [
    "cursor.execute(\"\"\"\n",
    "  SELECT *\n",
    "  FROM ExamScore \n",
    "  ORDER BY TotalScore \n",
    "  LIMIT 1\n",
    "\"\"\")\n",
    "result = cursor.fetchall()\n",
    "print(result)"
   ]
  },
  {
   "cell_type": "markdown",
   "id": "70a19610-5005-42d1-865a-0d9378fb865e",
   "metadata": {},
   "source": [
    "### 7. What percentage of students scored above 70 in all subjects?"
   ]
  },
  {
   "cell_type": "code",
   "execution_count": 11,
   "id": "62716e47-f8df-4122-9b0c-cdfcc83f485f",
   "metadata": {},
   "outputs": [
    {
     "data": {
      "text/html": [
       "<div>\n",
       "<style scoped>\n",
       "    .dataframe tbody tr th:only-of-type {\n",
       "        vertical-align: middle;\n",
       "    }\n",
       "\n",
       "    .dataframe tbody tr th {\n",
       "        vertical-align: top;\n",
       "    }\n",
       "\n",
       "    .dataframe thead th {\n",
       "        text-align: right;\n",
       "    }\n",
       "</style>\n",
       "<table border=\"1\" class=\"dataframe\">\n",
       "  <thead>\n",
       "    <tr style=\"text-align: right;\">\n",
       "      <th></th>\n",
       "      <th>0</th>\n",
       "      <th>1</th>\n",
       "      <th>2</th>\n",
       "      <th>3</th>\n",
       "      <th>4</th>\n",
       "      <th>5</th>\n",
       "      <th>6</th>\n",
       "      <th>7</th>\n",
       "      <th>8</th>\n",
       "      <th>9</th>\n",
       "      <th>10</th>\n",
       "      <th>11</th>\n",
       "      <th>12</th>\n",
       "      <th>13</th>\n",
       "      <th>14</th>\n",
       "      <th>15</th>\n",
       "      <th>16</th>\n",
       "      <th>17</th>\n",
       "    </tr>\n",
       "  </thead>\n",
       "  <tbody>\n",
       "    <tr>\n",
       "      <th>0</th>\n",
       "      <td>0</td>\n",
       "      <td>female</td>\n",
       "      <td></td>\n",
       "      <td>bachelor's degree</td>\n",
       "      <td>standard</td>\n",
       "      <td>none</td>\n",
       "      <td>married</td>\n",
       "      <td>regularly</td>\n",
       "      <td>yes</td>\n",
       "      <td>3</td>\n",
       "      <td>school_bus</td>\n",
       "      <td>&lt; 5</td>\n",
       "      <td>71</td>\n",
       "      <td>71</td>\n",
       "      <td>74</td>\n",
       "      <td>216</td>\n",
       "      <td>72</td>\n",
       "      <td>C</td>\n",
       "    </tr>\n",
       "    <tr>\n",
       "      <th>1</th>\n",
       "      <td>2</td>\n",
       "      <td>female</td>\n",
       "      <td>group B</td>\n",
       "      <td>master's degree</td>\n",
       "      <td>standard</td>\n",
       "      <td>none</td>\n",
       "      <td>single</td>\n",
       "      <td>sometimes</td>\n",
       "      <td>yes</td>\n",
       "      <td>4</td>\n",
       "      <td>school_bus</td>\n",
       "      <td>&lt; 5</td>\n",
       "      <td>87</td>\n",
       "      <td>93</td>\n",
       "      <td>91</td>\n",
       "      <td>271</td>\n",
       "      <td>90</td>\n",
       "      <td>B</td>\n",
       "    </tr>\n",
       "    <tr>\n",
       "      <th>2</th>\n",
       "      <td>4</td>\n",
       "      <td>male</td>\n",
       "      <td>group C</td>\n",
       "      <td>some college</td>\n",
       "      <td>standard</td>\n",
       "      <td>none</td>\n",
       "      <td>married</td>\n",
       "      <td>sometimes</td>\n",
       "      <td>yes</td>\n",
       "      <td>0</td>\n",
       "      <td>school_bus</td>\n",
       "      <td>5 - 10</td>\n",
       "      <td>76</td>\n",
       "      <td>78</td>\n",
       "      <td>75</td>\n",
       "      <td>229</td>\n",
       "      <td>76</td>\n",
       "      <td>B</td>\n",
       "    </tr>\n",
       "    <tr>\n",
       "      <th>3</th>\n",
       "      <td>5</td>\n",
       "      <td>female</td>\n",
       "      <td>group B</td>\n",
       "      <td>associate's degree</td>\n",
       "      <td>standard</td>\n",
       "      <td>none</td>\n",
       "      <td>married</td>\n",
       "      <td>regularly</td>\n",
       "      <td>yes</td>\n",
       "      <td>1</td>\n",
       "      <td>school_bus</td>\n",
       "      <td>5 - 10</td>\n",
       "      <td>73</td>\n",
       "      <td>84</td>\n",
       "      <td>79</td>\n",
       "      <td>236</td>\n",
       "      <td>79</td>\n",
       "      <td>B</td>\n",
       "    </tr>\n",
       "    <tr>\n",
       "      <th>4</th>\n",
       "      <td>6</td>\n",
       "      <td>female</td>\n",
       "      <td>group B</td>\n",
       "      <td>some college</td>\n",
       "      <td>standard</td>\n",
       "      <td>completed</td>\n",
       "      <td>widowed</td>\n",
       "      <td>never</td>\n",
       "      <td>no</td>\n",
       "      <td>1</td>\n",
       "      <td>private</td>\n",
       "      <td>5 - 10</td>\n",
       "      <td>85</td>\n",
       "      <td>93</td>\n",
       "      <td>89</td>\n",
       "      <td>267</td>\n",
       "      <td>89</td>\n",
       "      <td>B</td>\n",
       "    </tr>\n",
       "  </tbody>\n",
       "</table>\n",
       "</div>"
      ],
      "text/plain": [
       "   0       1        2                   3         4          5        6   \\\n",
       "0   0  female            bachelor's degree  standard       none  married   \n",
       "1   2  female  group B     master's degree  standard       none   single   \n",
       "2   4    male  group C        some college  standard       none  married   \n",
       "3   5  female  group B  associate's degree  standard       none  married   \n",
       "4   6  female  group B        some college  standard  completed  widowed   \n",
       "\n",
       "          7    8   9           10      11  12  13  14   15  16 17  \n",
       "0  regularly  yes   3  school_bus     < 5  71  71  74  216  72  C  \n",
       "1  sometimes  yes   4  school_bus     < 5  87  93  91  271  90  B  \n",
       "2  sometimes  yes   0  school_bus  5 - 10  76  78  75  229  76  B  \n",
       "3  regularly  yes   1  school_bus  5 - 10  73  84  79  236  79  B  \n",
       "4      never   no   1     private  5 - 10  85  93  89  267  89  B  "
      ]
     },
     "execution_count": 11,
     "metadata": {},
     "output_type": "execute_result"
    }
   ],
   "source": [
    "cursor.execute(\"\"\"\n",
    "  SELECT *\n",
    "  FROM ExamScore \n",
    "  WHERE Mathscore > 70 AND \n",
    "        Readingscore > 70 AND\n",
    "        WritingScore > 70\n",
    "\"\"\")\n",
    "result = cursor.fetchall()\n",
    "\n",
    "\n",
    "df = pd.DataFrame(result)\n",
    "df.head(5)"
   ]
  },
  {
   "cell_type": "markdown",
   "id": "90365aac-76d5-450a-9e59-da5804e7e3a5",
   "metadata": {},
   "source": [
    "### 8. Count the number of students in each grade."
   ]
  },
  {
   "cell_type": "code",
   "execution_count": 13,
   "id": "563cd2d4-1019-4bdc-ae7b-141da6b84da8",
   "metadata": {},
   "outputs": [],
   "source": [
    "# First create a new column named as Grade\n",
    "cursor.execute(\"\"\"\n",
    "  ALTER TABLE ExamScore\n",
    "  ADD COLUMN Grade VARCHAR(1)\n",
    "\"\"\")"
   ]
  },
  {
   "cell_type": "code",
   "execution_count": 11,
   "id": "fa955cec-2437-4d14-989a-14df3b853cde",
   "metadata": {},
   "outputs": [],
   "source": [
    "# Now set Grade of all students\n",
    "cursor.execute(\"\"\"\n",
    "   UPDATE ExamScore\n",
    "   SET Grade = CASE\n",
    "       WHEN Percentage > 90 THEN 'A'\n",
    "       WHEN Percentage > 75 THEN 'B'\n",
    "       WHEN Percentage > 50 THEN 'C'\n",
    "       ELSE 'D'\n",
    "       end\n",
    "\"\"\")"
   ]
  },
  {
   "cell_type": "code",
   "execution_count": 13,
   "id": "ef229124-5018-49b3-9da0-137e10e79909",
   "metadata": {},
   "outputs": [
    {
     "name": "stdout",
     "output_type": "stream",
     "text": [
      "('C', 16352)\n",
      "('B', 7601)\n",
      "('D', 3363)\n",
      "('A', 1753)\n"
     ]
    }
   ],
   "source": [
    "# Count the students in each grade \n",
    "cursor.execute(\"\"\"\n",
    "  SELECT Grade, COUNT(*) \n",
    "  FROM ExamScore GROUP BY Grade\n",
    "\"\"\")\n",
    "result = cursor.fetchall()\n",
    "for i in result:\n",
    "    print(i)"
   ]
  },
  {
   "cell_type": "markdown",
   "id": "3737f225-ee46-4565-be42-037efc96002a",
   "metadata": {},
   "source": [
    "### 9. What is the average MathScore, ReadingScore, and WritingScore for male and female students?"
   ]
  },
  {
   "cell_type": "code",
   "execution_count": 30,
   "id": "6cc5dcbf-ce30-4918-ac54-c13d1a791373",
   "metadata": {},
   "outputs": [
    {
     "data": {
      "text/html": [
       "<div>\n",
       "<style scoped>\n",
       "    .dataframe tbody tr th:only-of-type {\n",
       "        vertical-align: middle;\n",
       "    }\n",
       "\n",
       "    .dataframe tbody tr th {\n",
       "        vertical-align: top;\n",
       "    }\n",
       "\n",
       "    .dataframe thead th {\n",
       "        text-align: right;\n",
       "    }\n",
       "</style>\n",
       "<table border=\"1\" class=\"dataframe\">\n",
       "  <thead>\n",
       "    <tr style=\"text-align: right;\">\n",
       "      <th></th>\n",
       "      <th>Gender</th>\n",
       "      <th>AvgMathScore</th>\n",
       "      <th>AvgReadingScore</th>\n",
       "      <th>AvgWritingScore</th>\n",
       "    </tr>\n",
       "  </thead>\n",
       "  <tbody>\n",
       "    <tr>\n",
       "      <th>0</th>\n",
       "      <td>female</td>\n",
       "      <td>64.0896</td>\n",
       "      <td>72.8629</td>\n",
       "      <td>72.8795</td>\n",
       "    </tr>\n",
       "    <tr>\n",
       "      <th>1</th>\n",
       "      <td>male</td>\n",
       "      <td>69.0813</td>\n",
       "      <td>65.8677</td>\n",
       "      <td>63.9406</td>\n",
       "    </tr>\n",
       "  </tbody>\n",
       "</table>\n",
       "</div>"
      ],
      "text/plain": [
       "   Gender AvgMathScore AvgReadingScore AvgWritingScore\n",
       "0  female      64.0896         72.8629         72.8795\n",
       "1    male      69.0813         65.8677         63.9406"
      ]
     },
     "execution_count": 30,
     "metadata": {},
     "output_type": "execute_result"
    }
   ],
   "source": [
    "cursor.execute(\"\"\"\n",
    "  SELECT Gender, \n",
    "       AVG(MathScore) AS AvgMathScore, \n",
    "       AVG(ReadingScore) AS AvgReadingScore, \n",
    "       AVG(WritingScore) AS AvgWritingScore\n",
    "  FROM ExamScore\n",
    "  GROUP BY Gender\n",
    "\"\"\")\n",
    "result = pd.DataFrame(cursor.fetchall() , columns = ['Gender' , 'AvgMathScore' , 'AvgReadingScore' , 'AvgWritingScore'])\n",
    "result"
   ]
  },
  {
   "cell_type": "markdown",
   "id": "be10fdd6-af9c-42c2-8013-b181d4a21670",
   "metadata": {},
   "source": [
    "### 10. Determine the mode of the scores in Reading."
   ]
  },
  {
   "cell_type": "code",
   "execution_count": 14,
   "id": "7c450820-4933-494a-bfcd-d684dd6e36d7",
   "metadata": {},
   "outputs": [
    {
     "name": "stdout",
     "output_type": "stream",
     "text": [
      "The MODE of Reading Score is 65 because this numbers occurs 65 times.\n"
     ]
    }
   ],
   "source": [
    "cursor.execute(\"\"\"\n",
    "   SELECT ReadingScore, COUNT(*)\n",
    "   FROM ExamScore \n",
    "   GROUP BY ReadingScore\n",
    "   ORDER BY COUNT(*) DESC\n",
    "   LIMIT 1\n",
    "\"\"\")   \n",
    "result = cursor.fetchall()\n",
    "print(\"The MODE of Reading Score is\",result[0][0],\"because this numbers occurs\",result[0][0],\"times.\")"
   ]
  },
  {
   "cell_type": "markdown",
   "id": "c5bd380d-f9dc-4c00-a800-6887a8290f59",
   "metadata": {},
   "source": [
    "### 11. Find the number of students who scored above the average score in maths"
   ]
  },
  {
   "cell_type": "code",
   "execution_count": 15,
   "id": "468e1e87-3d4b-4060-b83a-418a43296ba8",
   "metadata": {},
   "outputs": [
    {
     "name": "stdout",
     "output_type": "stream",
     "text": [
      "14686\n"
     ]
    }
   ],
   "source": [
    "cursor.execute(\"\"\"\n",
    "    SELECT COUNT(*)\n",
    "      FROM ExamScore\n",
    "      WHERE MathScore > (SELECT AVG(MathScore) FROM ExamScore)\n",
    "\"\"\")\n",
    "result = cursor.fetchall()\n",
    "print(result[0][0])"
   ]
  },
  {
   "cell_type": "markdown",
   "id": "ae7d664f-54fc-4d43-8b25-171d84055f04",
   "metadata": {},
   "source": [
    "### 12. How many students scored 100 in at least one subject?"
   ]
  },
  {
   "cell_type": "code",
   "execution_count": 16,
   "id": "2bac92a4-4513-4edf-b322-fb14c2e0e78a",
   "metadata": {},
   "outputs": [
    {
     "name": "stdout",
     "output_type": "stream",
     "text": [
      "736\n"
     ]
    }
   ],
   "source": [
    "cursor.execute(\"\"\"\n",
    "    SELECT COUNT(*)\n",
    "    FROM Examscore \n",
    "    WHERE MathScore = 100 OR \n",
    "          ReadingScore = 100 OR\n",
    "          WritingScore = 100\n",
    "\"\"\")\n",
    "result = cursor.fetchall()\n",
    "print(result[0][0])"
   ]
  },
  {
   "cell_type": "markdown",
   "id": "2e657a93-a810-4235-8cda-351c2c492f50",
   "metadata": {},
   "source": [
    "### 13. Identify the top 10% of students based on their total scores."
   ]
  },
  {
   "cell_type": "markdown",
   "id": "1bc9b848-1063-4e46-9052-105458d45b16",
   "metadata": {},
   "source": [
    "### 14. Analyze the correlation between Math and Reading scores."
   ]
  },
  {
   "cell_type": "code",
   "execution_count": 17,
   "id": "66fd38e2-6a9f-4e7c-a039-df1025f4175f",
   "metadata": {},
   "outputs": [
    {
     "data": {
      "text/html": [
       "<div>\n",
       "<style scoped>\n",
       "    .dataframe tbody tr th:only-of-type {\n",
       "        vertical-align: middle;\n",
       "    }\n",
       "\n",
       "    .dataframe tbody tr th {\n",
       "        vertical-align: top;\n",
       "    }\n",
       "\n",
       "    .dataframe thead th {\n",
       "        text-align: right;\n",
       "    }\n",
       "</style>\n",
       "<table border=\"1\" class=\"dataframe\">\n",
       "  <thead>\n",
       "    <tr style=\"text-align: right;\">\n",
       "      <th></th>\n",
       "      <th>MathScore</th>\n",
       "      <th>ReadingScore</th>\n",
       "    </tr>\n",
       "  </thead>\n",
       "  <tbody>\n",
       "    <tr>\n",
       "      <th>0</th>\n",
       "      <td>71</td>\n",
       "      <td>71</td>\n",
       "    </tr>\n",
       "    <tr>\n",
       "      <th>1</th>\n",
       "      <td>69</td>\n",
       "      <td>90</td>\n",
       "    </tr>\n",
       "    <tr>\n",
       "      <th>2</th>\n",
       "      <td>87</td>\n",
       "      <td>93</td>\n",
       "    </tr>\n",
       "    <tr>\n",
       "      <th>3</th>\n",
       "      <td>45</td>\n",
       "      <td>56</td>\n",
       "    </tr>\n",
       "    <tr>\n",
       "      <th>4</th>\n",
       "      <td>76</td>\n",
       "      <td>78</td>\n",
       "    </tr>\n",
       "  </tbody>\n",
       "</table>\n",
       "</div>"
      ],
      "text/plain": [
       "   MathScore  ReadingScore\n",
       "0         71            71\n",
       "1         69            90\n",
       "2         87            93\n",
       "3         45            56\n",
       "4         76            78"
      ]
     },
     "execution_count": 17,
     "metadata": {},
     "output_type": "execute_result"
    }
   ],
   "source": [
    "cursor.execute(\"\"\"\n",
    "    SELECT MathScore , ReadingScore\n",
    "    FROM ExamScore\n",
    "\"\"\")\n",
    "result = cursor.fetchall()\n",
    "df = pd.DataFrame(result , columns = ['MathScore','ReadingScore'])\n",
    "df.head()"
   ]
  },
  {
   "cell_type": "code",
   "execution_count": 22,
   "id": "4da56fb3-4a05-4782-be8a-22d3b69e875c",
   "metadata": {},
   "outputs": [
    {
     "data": {
      "image/png": "[encoded data removed]",
      "text/plain": [
       "<Figure size 1000x600 with 1 Axes>"
      ]
     },
     "metadata": {},
     "output_type": "display_data"
    }
   ],
   "source": [
    "plt.figure(figsize=(10, 6))\n",
    "sns.regplot(x='MathScore', y='ReadingScore', data=df, color='black',scatter_kws={'s':30}, line_kws={\"color\":\"red\"})\n",
    "plt.title('Correlation between MathScore and ReadingScore')\n",
    "plt.show()"
   ]
  },
  {
   "cell_type": "markdown",
   "id": "4321286d-f5d9-41c8-9627-f386a481cfed",
   "metadata": {},
   "source": [
    "### 15. Compare the average scores of students in different grades."
   ]
  },
  {
   "cell_type": "code",
   "execution_count": 10,
   "id": "016b0b9f-065f-4fb4-83d0-7919b532c2f5",
   "metadata": {},
   "outputs": [
    {
     "data": {
      "text/html": [
       "<div>\n",
       "<style scoped>\n",
       "    .dataframe tbody tr th:only-of-type {\n",
       "        vertical-align: middle;\n",
       "    }\n",
       "\n",
       "    .dataframe tbody tr th {\n",
       "        vertical-align: top;\n",
       "    }\n",
       "\n",
       "    .dataframe thead th {\n",
       "        text-align: right;\n",
       "    }\n",
       "</style>\n",
       "<table border=\"1\" class=\"dataframe\">\n",
       "  <thead>\n",
       "    <tr style=\"text-align: right;\">\n",
       "      <th></th>\n",
       "      <th>0</th>\n",
       "      <th>1</th>\n",
       "    </tr>\n",
       "  </thead>\n",
       "  <tbody>\n",
       "    <tr>\n",
       "      <th>0</th>\n",
       "      <td>A</td>\n",
       "      <td>281.00</td>\n",
       "    </tr>\n",
       "    <tr>\n",
       "      <th>1</th>\n",
       "      <td>B</td>\n",
       "      <td>251.96</td>\n",
       "    </tr>\n",
       "    <tr>\n",
       "      <th>2</th>\n",
       "      <td>C</td>\n",
       "      <td>223.05</td>\n",
       "    </tr>\n",
       "    <tr>\n",
       "      <th>3</th>\n",
       "      <td>D</td>\n",
       "      <td>193.93</td>\n",
       "    </tr>\n",
       "    <tr>\n",
       "      <th>4</th>\n",
       "      <td>E</td>\n",
       "      <td>150.99</td>\n",
       "    </tr>\n",
       "  </tbody>\n",
       "</table>\n",
       "</div>"
      ],
      "text/plain": [
       "   0       1\n",
       "0  A  281.00\n",
       "1  B  251.96\n",
       "2  C  223.05\n",
       "3  D  193.93\n",
       "4  E  150.99"
      ]
     },
     "execution_count": 10,
     "metadata": {},
     "output_type": "execute_result"
    }
   ],
   "source": [
    "cursor.execute(\"\"\"\n",
    "    SELECT Grade , ROUND(AVG(TotalScore),2) AS AvgTotalScore\n",
    "    FROM ExamScore\n",
    "    GROUP BY Grade\n",
    "    ORDER BY GRADE\n",
    "\"\"\")\n",
    "result = cursor.fetchall()\n",
    "df = pd.DataFrame(result)\n",
    "df"
   ]
  },
  {
   "cell_type": "code",
   "execution_count": 12,
   "id": "08c9b4d2-39fb-40f8-ba51-5d732068a656",
   "metadata": {},
   "outputs": [
    {
     "data": {
      "image/png": "[encoded data removed]",
      "text/plain": [
       "<Figure size 900x600 with 1 Axes>"
      ]
     },
     "metadata": {},
     "output_type": "display_data"
    }
   ],
   "source": [
    "plt.figure(figsize = (9,6))\n",
    "\n",
    "plt.bar(df[0],df[1],color='black')\n",
    "plt.title('Comp. of students in each grade')\n",
    "plt.xlabel('Grades')\n",
    "plt.ylabel('No. of students')\n",
    "plt.show()"
   ]
  },
  {
   "cell_type": "markdown",
   "id": "132827b3-e60a-4e15-9a88-7ab6526f43bc",
   "metadata": {},
   "source": [
    "### 16. Key factors that contribute to high Math scores"
   ]
  },
  {
   "cell_type": "code",
   "execution_count": 63,
   "id": "2851477d-ae56-474a-bf7a-c652bf88e0c2",
   "metadata": {},
   "outputs": [
    {
     "data": {
      "text/html": [
       "<div>\n",
       "<style scoped>\n",
       "    .dataframe tbody tr th:only-of-type {\n",
       "        vertical-align: middle;\n",
       "    }\n",
       "\n",
       "    .dataframe tbody tr th {\n",
       "        vertical-align: top;\n",
       "    }\n",
       "\n",
       "    .dataframe thead th {\n",
       "        text-align: right;\n",
       "    }\n",
       "</style>\n",
       "<table border=\"1\" class=\"dataframe\">\n",
       "  <thead>\n",
       "    <tr style=\"text-align: right;\">\n",
       "      <th></th>\n",
       "      <th>Gender</th>\n",
       "      <th>ParentEdu</th>\n",
       "      <th>LunchType</th>\n",
       "      <th>AvgMathScore</th>\n",
       "    </tr>\n",
       "  </thead>\n",
       "  <tbody>\n",
       "    <tr>\n",
       "      <th>0</th>\n",
       "      <td>male</td>\n",
       "      <td>master's degree</td>\n",
       "      <td>standard</td>\n",
       "      <td>79.6401</td>\n",
       "    </tr>\n",
       "    <tr>\n",
       "      <th>1</th>\n",
       "      <td>male</td>\n",
       "      <td>bachelor's degree</td>\n",
       "      <td>standard</td>\n",
       "      <td>77.8978</td>\n",
       "    </tr>\n",
       "    <tr>\n",
       "      <th>2</th>\n",
       "      <td>male</td>\n",
       "      <td>associate's degree</td>\n",
       "      <td>standard</td>\n",
       "      <td>74.8896</td>\n",
       "    </tr>\n",
       "    <tr>\n",
       "      <th>3</th>\n",
       "      <td>female</td>\n",
       "      <td>master's degree</td>\n",
       "      <td>standard</td>\n",
       "      <td>73.9211</td>\n",
       "    </tr>\n",
       "    <tr>\n",
       "      <th>4</th>\n",
       "      <td>male</td>\n",
       "      <td>some college</td>\n",
       "      <td>standard</td>\n",
       "      <td>73.3494</td>\n",
       "    </tr>\n",
       "    <tr>\n",
       "      <th>5</th>\n",
       "      <td>male</td>\n",
       "      <td></td>\n",
       "      <td>standard</td>\n",
       "      <td>72.2492</td>\n",
       "    </tr>\n",
       "    <tr>\n",
       "      <th>6</th>\n",
       "      <td>female</td>\n",
       "      <td>bachelor's degree</td>\n",
       "      <td>standard</td>\n",
       "      <td>71.5010</td>\n",
       "    </tr>\n",
       "    <tr>\n",
       "      <th>7</th>\n",
       "      <td>male</td>\n",
       "      <td>high school</td>\n",
       "      <td>standard</td>\n",
       "      <td>70.7024</td>\n",
       "    </tr>\n",
       "    <tr>\n",
       "      <th>8</th>\n",
       "      <td>female</td>\n",
       "      <td>associate's degree</td>\n",
       "      <td>standard</td>\n",
       "      <td>70.4078</td>\n",
       "    </tr>\n",
       "    <tr>\n",
       "      <th>9</th>\n",
       "      <td>male</td>\n",
       "      <td>some high school</td>\n",
       "      <td>standard</td>\n",
       "      <td>69.2531</td>\n",
       "    </tr>\n",
       "    <tr>\n",
       "      <th>10</th>\n",
       "      <td>female</td>\n",
       "      <td></td>\n",
       "      <td>standard</td>\n",
       "      <td>68.8682</td>\n",
       "    </tr>\n",
       "    <tr>\n",
       "      <th>11</th>\n",
       "      <td>female</td>\n",
       "      <td>some college</td>\n",
       "      <td>standard</td>\n",
       "      <td>67.6871</td>\n",
       "    </tr>\n",
       "    <tr>\n",
       "      <th>12</th>\n",
       "      <td>male</td>\n",
       "      <td>master's degree</td>\n",
       "      <td>free/reduced</td>\n",
       "      <td>66.6347</td>\n",
       "    </tr>\n",
       "    <tr>\n",
       "      <th>13</th>\n",
       "      <td>female</td>\n",
       "      <td>high school</td>\n",
       "      <td>standard</td>\n",
       "      <td>66.4834</td>\n",
       "    </tr>\n",
       "    <tr>\n",
       "      <th>14</th>\n",
       "      <td>male</td>\n",
       "      <td>bachelor's degree</td>\n",
       "      <td>free/reduced</td>\n",
       "      <td>65.4946</td>\n",
       "    </tr>\n",
       "    <tr>\n",
       "      <th>15</th>\n",
       "      <td>female</td>\n",
       "      <td>some high school</td>\n",
       "      <td>standard</td>\n",
       "      <td>64.2734</td>\n",
       "    </tr>\n",
       "    <tr>\n",
       "      <th>16</th>\n",
       "      <td>female</td>\n",
       "      <td>master's degree</td>\n",
       "      <td>free/reduced</td>\n",
       "      <td>63.3304</td>\n",
       "    </tr>\n",
       "    <tr>\n",
       "      <th>17</th>\n",
       "      <td>male</td>\n",
       "      <td>associate's degree</td>\n",
       "      <td>free/reduced</td>\n",
       "      <td>63.1780</td>\n",
       "    </tr>\n",
       "    <tr>\n",
       "      <th>18</th>\n",
       "      <td>male</td>\n",
       "      <td>some college</td>\n",
       "      <td>free/reduced</td>\n",
       "      <td>61.9383</td>\n",
       "    </tr>\n",
       "    <tr>\n",
       "      <th>19</th>\n",
       "      <td>male</td>\n",
       "      <td></td>\n",
       "      <td>free/reduced</td>\n",
       "      <td>61.2931</td>\n",
       "    </tr>\n",
       "    <tr>\n",
       "      <th>20</th>\n",
       "      <td>female</td>\n",
       "      <td>bachelor's degree</td>\n",
       "      <td>free/reduced</td>\n",
       "      <td>60.6246</td>\n",
       "    </tr>\n",
       "    <tr>\n",
       "      <th>21</th>\n",
       "      <td>male</td>\n",
       "      <td>high school</td>\n",
       "      <td>free/reduced</td>\n",
       "      <td>59.2780</td>\n",
       "    </tr>\n",
       "    <tr>\n",
       "      <th>22</th>\n",
       "      <td>female</td>\n",
       "      <td>associate's degree</td>\n",
       "      <td>free/reduced</td>\n",
       "      <td>58.0670</td>\n",
       "    </tr>\n",
       "    <tr>\n",
       "      <th>23</th>\n",
       "      <td>male</td>\n",
       "      <td>some high school</td>\n",
       "      <td>free/reduced</td>\n",
       "      <td>56.5929</td>\n",
       "    </tr>\n",
       "    <tr>\n",
       "      <th>24</th>\n",
       "      <td>female</td>\n",
       "      <td>some college</td>\n",
       "      <td>free/reduced</td>\n",
       "      <td>55.9423</td>\n",
       "    </tr>\n",
       "    <tr>\n",
       "      <th>25</th>\n",
       "      <td>female</td>\n",
       "      <td></td>\n",
       "      <td>free/reduced</td>\n",
       "      <td>55.8885</td>\n",
       "    </tr>\n",
       "    <tr>\n",
       "      <th>26</th>\n",
       "      <td>female</td>\n",
       "      <td>high school</td>\n",
       "      <td>free/reduced</td>\n",
       "      <td>54.3094</td>\n",
       "    </tr>\n",
       "    <tr>\n",
       "      <th>27</th>\n",
       "      <td>female</td>\n",
       "      <td>some high school</td>\n",
       "      <td>free/reduced</td>\n",
       "      <td>52.1096</td>\n",
       "    </tr>\n",
       "  </tbody>\n",
       "</table>\n",
       "</div>"
      ],
      "text/plain": [
       "    Gender           ParentEdu     LunchType AvgMathScore\n",
       "0     male     master's degree      standard      79.6401\n",
       "1     male   bachelor's degree      standard      77.8978\n",
       "2     male  associate's degree      standard      74.8896\n",
       "3   female     master's degree      standard      73.9211\n",
       "4     male        some college      standard      73.3494\n",
       "5     male                          standard      72.2492\n",
       "6   female   bachelor's degree      standard      71.5010\n",
       "7     male         high school      standard      70.7024\n",
       "8   female  associate's degree      standard      70.4078\n",
       "9     male    some high school      standard      69.2531\n",
       "10  female                          standard      68.8682\n",
       "11  female        some college      standard      67.6871\n",
       "12    male     master's degree  free/reduced      66.6347\n",
       "13  female         high school      standard      66.4834\n",
       "14    male   bachelor's degree  free/reduced      65.4946\n",
       "15  female    some high school      standard      64.2734\n",
       "16  female     master's degree  free/reduced      63.3304\n",
       "17    male  associate's degree  free/reduced      63.1780\n",
       "18    male        some college  free/reduced      61.9383\n",
       "19    male                      free/reduced      61.2931\n",
       "20  female   bachelor's degree  free/reduced      60.6246\n",
       "21    male         high school  free/reduced      59.2780\n",
       "22  female  associate's degree  free/reduced      58.0670\n",
       "23    male    some high school  free/reduced      56.5929\n",
       "24  female        some college  free/reduced      55.9423\n",
       "25  female                      free/reduced      55.8885\n",
       "26  female         high school  free/reduced      54.3094\n",
       "27  female    some high school  free/reduced      52.1096"
      ]
     },
     "execution_count": 63,
     "metadata": {},
     "output_type": "execute_result"
    }
   ],
   "source": [
    "cursor.execute(\"\"\"\n",
    "    SELECT Gender, ParentEduc, LunchType, \n",
    "       AVG(MathScore) AS AvgMathScore\n",
    "    FROM ExamScore\n",
    "    GROUP BY Gender, ParentEduc, LunchType\n",
    "    ORDER BY AvgMathScore DESC;\n",
    "\"\"\")\n",
    "pd.DataFrame(cursor.fetchall() , columns = ['Gender' , 'ParentEdu' , 'LunchType' , 'AvgMathScore'])"
   ]
  },
  {
   "cell_type": "markdown",
   "id": "176bc114-4a9a-420b-ba7d-cdeb701dd511",
   "metadata": {},
   "source": [
    "### 17. Performance difference across ethnic groups by lunch type"
   ]
  },
  {
   "cell_type": "code",
   "execution_count": 72,
   "id": "118aa301-73ad-4747-b5ce-2a5c76e6c0d8",
   "metadata": {},
   "outputs": [
    {
     "data": {
      "text/html": [
       "<div>\n",
       "<style scoped>\n",
       "    .dataframe tbody tr th:only-of-type {\n",
       "        vertical-align: middle;\n",
       "    }\n",
       "\n",
       "    .dataframe tbody tr th {\n",
       "        vertical-align: top;\n",
       "    }\n",
       "\n",
       "    .dataframe thead th {\n",
       "        text-align: right;\n",
       "    }\n",
       "</style>\n",
       "<table border=\"1\" class=\"dataframe\">\n",
       "  <thead>\n",
       "    <tr style=\"text-align: right;\">\n",
       "      <th></th>\n",
       "      <th>EthnicGroup</th>\n",
       "      <th>LunchType</th>\n",
       "      <th>AvgMathScore</th>\n",
       "      <th>AvgReadingScore</th>\n",
       "      <th>AvgWritingScore</th>\n",
       "    </tr>\n",
       "  </thead>\n",
       "  <tbody>\n",
       "    <tr>\n",
       "      <th>0</th>\n",
       "      <td>group E</td>\n",
       "      <td>standard</td>\n",
       "      <td>78.9371</td>\n",
       "      <td>76.6086</td>\n",
       "      <td>75.2895</td>\n",
       "    </tr>\n",
       "    <tr>\n",
       "      <th>1</th>\n",
       "      <td>group D</td>\n",
       "      <td>standard</td>\n",
       "      <td>72.0009</td>\n",
       "      <td>73.2771</td>\n",
       "      <td>74.0860</td>\n",
       "    </tr>\n",
       "    <tr>\n",
       "      <th>2</th>\n",
       "      <td></td>\n",
       "      <td>standard</td>\n",
       "      <td>69.9430</td>\n",
       "      <td>71.3877</td>\n",
       "      <td>70.7608</td>\n",
       "    </tr>\n",
       "    <tr>\n",
       "      <th>3</th>\n",
       "      <td>group C</td>\n",
       "      <td>standard</td>\n",
       "      <td>68.8823</td>\n",
       "      <td>71.2558</td>\n",
       "      <td>70.1179</td>\n",
       "    </tr>\n",
       "    <tr>\n",
       "      <th>4</th>\n",
       "      <td>group E</td>\n",
       "      <td>free/reduced</td>\n",
       "      <td>68.6161</td>\n",
       "      <td>69.9639</td>\n",
       "      <td>67.8843</td>\n",
       "    </tr>\n",
       "    <tr>\n",
       "      <th>5</th>\n",
       "      <td>group B</td>\n",
       "      <td>standard</td>\n",
       "      <td>67.8970</td>\n",
       "      <td>70.3715</td>\n",
       "      <td>69.2909</td>\n",
       "    </tr>\n",
       "    <tr>\n",
       "      <th>6</th>\n",
       "      <td>group A</td>\n",
       "      <td>standard</td>\n",
       "      <td>67.1615</td>\n",
       "      <td>69.6705</td>\n",
       "      <td>68.5387</td>\n",
       "    </tr>\n",
       "    <tr>\n",
       "      <th>7</th>\n",
       "      <td>group D</td>\n",
       "      <td>free/reduced</td>\n",
       "      <td>59.7148</td>\n",
       "      <td>65.0924</td>\n",
       "      <td>65.0690</td>\n",
       "    </tr>\n",
       "    <tr>\n",
       "      <th>8</th>\n",
       "      <td></td>\n",
       "      <td>free/reduced</td>\n",
       "      <td>58.6690</td>\n",
       "      <td>63.9293</td>\n",
       "      <td>62.1690</td>\n",
       "    </tr>\n",
       "    <tr>\n",
       "      <th>9</th>\n",
       "      <td>group C</td>\n",
       "      <td>free/reduced</td>\n",
       "      <td>57.0068</td>\n",
       "      <td>63.2575</td>\n",
       "      <td>61.2939</td>\n",
       "    </tr>\n",
       "    <tr>\n",
       "      <th>10</th>\n",
       "      <td>group B</td>\n",
       "      <td>free/reduced</td>\n",
       "      <td>55.5674</td>\n",
       "      <td>61.8207</td>\n",
       "      <td>59.8602</td>\n",
       "    </tr>\n",
       "    <tr>\n",
       "      <th>11</th>\n",
       "      <td>group A</td>\n",
       "      <td>free/reduced</td>\n",
       "      <td>54.9748</td>\n",
       "      <td>61.1566</td>\n",
       "      <td>58.8238</td>\n",
       "    </tr>\n",
       "  </tbody>\n",
       "</table>\n",
       "</div>"
      ],
      "text/plain": [
       "   EthnicGroup     LunchType AvgMathScore AvgReadingScore AvgWritingScore\n",
       "0      group E      standard      78.9371         76.6086         75.2895\n",
       "1      group D      standard      72.0009         73.2771         74.0860\n",
       "2                   standard      69.9430         71.3877         70.7608\n",
       "3      group C      standard      68.8823         71.2558         70.1179\n",
       "4      group E  free/reduced      68.6161         69.9639         67.8843\n",
       "5      group B      standard      67.8970         70.3715         69.2909\n",
       "6      group A      standard      67.1615         69.6705         68.5387\n",
       "7      group D  free/reduced      59.7148         65.0924         65.0690\n",
       "8               free/reduced      58.6690         63.9293         62.1690\n",
       "9      group C  free/reduced      57.0068         63.2575         61.2939\n",
       "10     group B  free/reduced      55.5674         61.8207         59.8602\n",
       "11     group A  free/reduced      54.9748         61.1566         58.8238"
      ]
     },
     "execution_count": 72,
     "metadata": {},
     "output_type": "execute_result"
    }
   ],
   "source": [
    "cursor.execute(\"\"\"\n",
    "    SELECT EthnicGroup, LunchType,  \n",
    "       AVG(MathScore) AS AvgMathScore,\n",
    "       AVG(ReadingScore) AS AvgReadingScore,\n",
    "       AVG(WritingScore) AS AvgWritingScore\n",
    "    FROM ExamScore\n",
    "    GROUP BY EthnicGroup , LunchType\n",
    "    ORDER BY AvgMathScore DESC,\n",
    "             AvgReadingScore DESC,\n",
    "             AvgWritingScore DESC\n",
    "\"\"\")\n",
    "pd.DataFrame(cursor.fetchall() , columns = ['EthnicGroup' , 'LunchType' , 'AvgMathScore' , 'AvgReadingScore' , 'AvgWritingScore'])"
   ]
  },
  {
   "cell_type": "markdown",
   "id": "98b11da6-bcd2-40d4-a795-afb6e2143efb",
   "metadata": {},
   "source": [
    "### 18. Create a histogram to visualize the distribution of total scores."
   ]
  },
  {
   "cell_type": "code",
   "execution_count": 92,
   "id": "8df3847d-4e7e-48b8-b41b-ababdb7ed060",
   "metadata": {},
   "outputs": [
    {
     "data": {
      "text/html": [
       "<div>\n",
       "<style scoped>\n",
       "    .dataframe tbody tr th:only-of-type {\n",
       "        vertical-align: middle;\n",
       "    }\n",
       "\n",
       "    .dataframe tbody tr th {\n",
       "        vertical-align: top;\n",
       "    }\n",
       "\n",
       "    .dataframe thead th {\n",
       "        text-align: right;\n",
       "    }\n",
       "</style>\n",
       "<table border=\"1\" class=\"dataframe\">\n",
       "  <thead>\n",
       "    <tr style=\"text-align: right;\">\n",
       "      <th></th>\n",
       "      <th>TotalScore</th>\n",
       "    </tr>\n",
       "  </thead>\n",
       "  <tbody>\n",
       "    <tr>\n",
       "      <th>0</th>\n",
       "      <td>216</td>\n",
       "    </tr>\n",
       "    <tr>\n",
       "      <th>1</th>\n",
       "      <td>247</td>\n",
       "    </tr>\n",
       "    <tr>\n",
       "      <th>2</th>\n",
       "      <td>271</td>\n",
       "    </tr>\n",
       "    <tr>\n",
       "      <th>3</th>\n",
       "      <td>143</td>\n",
       "    </tr>\n",
       "    <tr>\n",
       "      <th>4</th>\n",
       "      <td>229</td>\n",
       "    </tr>\n",
       "  </tbody>\n",
       "</table>\n",
       "</div>"
      ],
      "text/plain": [
       "   TotalScore\n",
       "0         216\n",
       "1         247\n",
       "2         271\n",
       "3         143\n",
       "4         229"
      ]
     },
     "execution_count": 92,
     "metadata": {},
     "output_type": "execute_result"
    }
   ],
   "source": [
    "cursor.execute(\"\"\"\n",
    "    SELECT TotalScore\n",
    "    FROM ExamScore\n",
    "\"\"\")\n",
    "result = cursor.fetchall()\n",
    "df = pd.DataFrame(result , columns = ['TotalScore'])\n",
    "df.head()"
   ]
  },
  {
   "cell_type": "code",
   "execution_count": 97,
   "id": "aa6df520-3229-4a76-8075-11dbd5d2bd82",
   "metadata": {},
   "outputs": [
    {
     "data": {
      "image/png": "[encoded data removed]",
      "text/plain": [
       "<Figure size 900x600 with 1 Axes>"
      ]
     },
     "metadata": {},
     "output_type": "display_data"
    }
   ],
   "source": [
    "# Show Histogram to visualize the differences between all Subjects Scores.\n",
    "plt.figure(figsize=(9,6))\n",
    "\n",
    "plt.hist(df['TotalScore'] , bins = [50,100,150,200,250,300] , color='black',log='true')\n",
    "\n",
    "plt.title('Distribution of Scores by Subject')\n",
    "plt.xlabel('Scores')\n",
    "plt.ylabel('No of Students')\n",
    "plt.grid(True)\n",
    "plt.show()"
   ]
  },
  {
   "cell_type": "markdown",
   "id": "ffc9a038-0572-4e4b-9f17-044c551c7251",
   "metadata": {},
   "source": [
    "### 19. Examine if there's a significant difference between the scores of male and female students"
   ]
  },
  {
   "cell_type": "code",
   "execution_count": 21,
   "id": "9253d96f-860e-4f01-a3d3-a4b0db79b1d9",
   "metadata": {},
   "outputs": [],
   "source": [
    "cursor.execute(\"\"\"\n",
    "    SELECT Gender , AVG(TotalScore) , COUNT(Gender)\n",
    "    FROM ExamScore\n",
    "    GROUP BY Gender\n",
    "\"\"\")\n",
    "\n",
    "df = pd.DataFrame(cursor.fetchall() , columns = ['Gender','AvgTotalScore','No of Male/female'])\n",
    "data = list(df['AvgTotalScore'])"
   ]
  },
  {
   "cell_type": "code",
   "execution_count": 22,
   "id": "e0701e70-dd01-4d7c-9605-09a6158d9bda",
   "metadata": {},
   "outputs": [
    {
     "data": {
      "image/png": "[encoded data removed]",
      "text/plain": [
       "<Figure size 900x900 with 1 Axes>"
      ]
     },
     "metadata": {},
     "output_type": "display_data"
    }
   ],
   "source": [
    "plt.figure(figsize = (9,9))\n",
    "plt.pie(data , labels = df['Gender'] , autopct = '%0.2f%%')\n",
    "plt.show()"
   ]
  },
  {
   "cell_type": "markdown",
   "id": "25119013-2152-4bee-be01-c8a756257a9c",
   "metadata": {},
   "source": [
    "### 20. Which ethnic group has the highest average MathScore, ReadingScore, and WritingScore?"
   ]
  },
  {
   "cell_type": "code",
   "execution_count": 55,
   "id": "b0fc2679-b91a-42c5-b2c5-ff24c49b78de",
   "metadata": {},
   "outputs": [
    {
     "data": {
      "text/html": [
       "<div>\n",
       "<style scoped>\n",
       "    .dataframe tbody tr th:only-of-type {\n",
       "        vertical-align: middle;\n",
       "    }\n",
       "\n",
       "    .dataframe tbody tr th {\n",
       "        vertical-align: top;\n",
       "    }\n",
       "\n",
       "    .dataframe thead th {\n",
       "        text-align: right;\n",
       "    }\n",
       "</style>\n",
       "<table border=\"1\" class=\"dataframe\">\n",
       "  <thead>\n",
       "    <tr style=\"text-align: right;\">\n",
       "      <th></th>\n",
       "      <th>highestAvgMaths</th>\n",
       "      <th>highestAvgReading</th>\n",
       "      <th>highestAvgWriting</th>\n",
       "    </tr>\n",
       "    <tr>\n",
       "      <th>Group</th>\n",
       "      <th></th>\n",
       "      <th></th>\n",
       "      <th></th>\n",
       "    </tr>\n",
       "  </thead>\n",
       "  <tbody>\n",
       "    <tr>\n",
       "      <th>group E</th>\n",
       "      <td>75.2707</td>\n",
       "      <td>74.2482</td>\n",
       "      <td>72.6589</td>\n",
       "    </tr>\n",
       "  </tbody>\n",
       "</table>\n",
       "</div>"
      ],
      "text/plain": [
       "        highestAvgMaths highestAvgReading highestAvgWriting\n",
       "Group                                                      \n",
       "group E         75.2707           74.2482           72.6589"
      ]
     },
     "execution_count": 55,
     "metadata": {},
     "output_type": "execute_result"
    }
   ],
   "source": [
    "cursor.execute(\"\"\"\n",
    "    SELECT EthnicGroup,\n",
    "           AVG(MathScore) AS AvgMathScore,\n",
    "           AVG(ReadingScore) AS AvgReadingScore,\n",
    "           AVG(WritingScore) As avgWritingScore\n",
    "    FROM ExamScore\n",
    "    GROUP BY EthnicGroup\n",
    "    ORDER BY AvgMathScore DESC, AvgReadingScore DESC, AvgWritingScore DESC\n",
    "    LIMIT 1\n",
    "\"\"\")\n",
    "result = cursor.fetchall()\n",
    "result = pd.DataFrame(result, columns = ['Group' ,'highestAvgMaths' , 'highestAvgReading' , 'highestAvgWriting']).set_index('Group')\n",
    "result"
   ]
  },
  {
   "cell_type": "markdown",
   "id": "aefc33c4-d983-405d-8383-544d3467df3b",
   "metadata": {},
   "source": [
    "### 21. Gender distribution across ethnic groups"
   ]
  },
  {
   "cell_type": "code",
   "execution_count": 79,
   "id": "9649fbc6-eeb0-4b55-8e4a-41683ca31465",
   "metadata": {},
   "outputs": [
    {
     "data": {
      "text/html": [
       "<div>\n",
       "<style scoped>\n",
       "    .dataframe tbody tr th:only-of-type {\n",
       "        vertical-align: middle;\n",
       "    }\n",
       "\n",
       "    .dataframe tbody tr th {\n",
       "        vertical-align: top;\n",
       "    }\n",
       "\n",
       "    .dataframe thead th {\n",
       "        text-align: right;\n",
       "    }\n",
       "</style>\n",
       "<table border=\"1\" class=\"dataframe\">\n",
       "  <thead>\n",
       "    <tr style=\"text-align: right;\">\n",
       "      <th></th>\n",
       "      <th>Gender</th>\n",
       "      <th>EthnicGroup</th>\n",
       "      <th>Count</th>\n",
       "    </tr>\n",
       "  </thead>\n",
       "  <tbody>\n",
       "    <tr>\n",
       "      <th>0</th>\n",
       "      <td>male</td>\n",
       "      <td>group C</td>\n",
       "      <td>4385</td>\n",
       "    </tr>\n",
       "    <tr>\n",
       "      <th>1</th>\n",
       "      <td>female</td>\n",
       "      <td>group C</td>\n",
       "      <td>4378</td>\n",
       "    </tr>\n",
       "    <tr>\n",
       "      <th>2</th>\n",
       "      <td>female</td>\n",
       "      <td>group D</td>\n",
       "      <td>3568</td>\n",
       "    </tr>\n",
       "    <tr>\n",
       "      <th>3</th>\n",
       "      <td>male</td>\n",
       "      <td>group D</td>\n",
       "      <td>3538</td>\n",
       "    </tr>\n",
       "    <tr>\n",
       "      <th>4</th>\n",
       "      <td>female</td>\n",
       "      <td>group B</td>\n",
       "      <td>2822</td>\n",
       "    </tr>\n",
       "    <tr>\n",
       "      <th>5</th>\n",
       "      <td>male</td>\n",
       "      <td>group B</td>\n",
       "      <td>2724</td>\n",
       "    </tr>\n",
       "    <tr>\n",
       "      <th>6</th>\n",
       "      <td>female</td>\n",
       "      <td>group E</td>\n",
       "      <td>1918</td>\n",
       "    </tr>\n",
       "    <tr>\n",
       "      <th>7</th>\n",
       "      <td>male</td>\n",
       "      <td>group E</td>\n",
       "      <td>1902</td>\n",
       "    </tr>\n",
       "    <tr>\n",
       "      <th>8</th>\n",
       "      <td>female</td>\n",
       "      <td>group A</td>\n",
       "      <td>1065</td>\n",
       "    </tr>\n",
       "    <tr>\n",
       "      <th>9</th>\n",
       "      <td>male</td>\n",
       "      <td>group A</td>\n",
       "      <td>1031</td>\n",
       "    </tr>\n",
       "    <tr>\n",
       "      <th>10</th>\n",
       "      <td>female</td>\n",
       "      <td></td>\n",
       "      <td>869</td>\n",
       "    </tr>\n",
       "    <tr>\n",
       "      <th>11</th>\n",
       "      <td>male</td>\n",
       "      <td></td>\n",
       "      <td>869</td>\n",
       "    </tr>\n",
       "  </tbody>\n",
       "</table>\n",
       "</div>"
      ],
      "text/plain": [
       "    Gender EthnicGroup  Count\n",
       "0     male     group C   4385\n",
       "1   female     group C   4378\n",
       "2   female     group D   3568\n",
       "3     male     group D   3538\n",
       "4   female     group B   2822\n",
       "5     male     group B   2724\n",
       "6   female     group E   1918\n",
       "7     male     group E   1902\n",
       "8   female     group A   1065\n",
       "9     male     group A   1031\n",
       "10  female                869\n",
       "11    male                869"
      ]
     },
     "execution_count": 79,
     "metadata": {},
     "output_type": "execute_result"
    }
   ],
   "source": [
    "cursor.execute(\"\"\"\n",
    "   SELECT Gender , EthnicGroup , COUNT(*) AS no\n",
    "   FROM ExamScore\n",
    "   GROUP BY Gender , EthnicGroup \n",
    "   ORDER BY no DESC\n",
    "\"\"\")\n",
    "pd.DataFrame(cursor.fetchall() , columns = ['Gender' , 'EthnicGroup' , 'Count'])"
   ]
  },
  {
   "cell_type": "code",
   "execution_count": null,
   "id": "0e620bcc-78d0-44a2-b090-f25c76e4ed1b",
   "metadata": {},
   "outputs": [],
   "source": []
  }
 ],
 "metadata": {
  "kernelspec": {
   "display_name": "Python 3 (ipykernel)",
   "language": "python",
   "name": "python3"
  },
  "language_info": {
   "codemirror_mode": {
    "name": "ipython",
    "version": 3
   },
   "file_extension": ".py",
   "mimetype": "text/x-python",
   "name": "python",
   "nbconvert_exporter": "python",
   "pygments_lexer": "ipython3",
   "version": "3.11.5"
  },
  "widgets": {
   "application/vnd.jupyter.widget-state+json": {
    "state": {},
    "version_major": 2,
    "version_minor": 0
   }
  }
 },
 "nbformat": 4,
 "nbformat_minor": 5
}
